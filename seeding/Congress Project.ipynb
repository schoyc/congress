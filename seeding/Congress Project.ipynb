{
 "cells": [
  {
   "cell_type": "code",
   "execution_count": 3,
   "metadata": {
    "collapsed": true
   },
   "outputs": [],
   "source": [
    "import requests\n",
    "import json\n",
    "import csv"
   ]
  },
  {
   "cell_type": "code",
   "execution_count": 8,
   "metadata": {
    "collapsed": true
   },
   "outputs": [],
   "source": [
    "API_URL = \"https://congress.api.sunlightfoundation.com\""
   ]
  },
  {
   "cell_type": "code",
   "execution_count": 17,
   "metadata": {
    "collapsed": false
   },
   "outputs": [],
   "source": [
    "def getLegislatorsHeaders():\n",
    "    response = requests.get(API_URL + \"/legislators\", params={'in_office' : 'true'})\n",
    "    results = response.json()[\"results\"]\n",
    "    headers = list(results[0].keys())\n",
    "    headers.sort()\n",
    "    return headers"
   ]
  },
  {
   "cell_type": "code",
   "execution_count": 27,
   "metadata": {
    "collapsed": true
   },
   "outputs": [],
   "source": [
    "def getAllCurrentLegislators(csvFile):\n",
    "    f = open(csvFile, 'w+')\n",
    "    writer = csv.writer(f)\n",
    "    \n",
    "    # Get headers/schema first\n",
    "    headers = getLegislatorsHeaders()\n",
    "    writer.writerow(headers)\n",
    "    \n",
    "    page_count = 0\n",
    "    per_page = 0\n",
    "    params = {'in_office' : 'true'}\n",
    "    url = API_URL + \"/legislators\"\n",
    "    \n",
    "    listToString = lambda l : \";\".join(l) if type(l) == list else str(l)\n",
    "    \n",
    "    error_legislators = []\n",
    "    while page_count == per_page:\n",
    "        response = requests.get(url, params)\n",
    "        print(response.url)\n",
    "        \n",
    "        response = response.json()\n",
    "        results = response[\"results\"]\n",
    "        for result in results:\n",
    "            try:\n",
    "                legislator_data = [listToString(result[column]) for column in headers]\n",
    "                writer.writerow(legislator_data)\n",
    "            except KeyError as e:\n",
    "                if \"bioguide_id\" not in result:\n",
    "                    print(result)\n",
    "                else:\n",
    "                    error_legislators.append(result[\"bioguide_id\"])\n",
    "        \n",
    "        page_count = response[\"page\"][\"count\"]\n",
    "        per_page = response[\"page\"][\"per_page\"]\n",
    "        cur_page = response[\"page\"][\"page\"]\n",
    "        params['page'] = cur_page + 1\n",
    "        \n",
    "        print(\"Processed:\", str((cur_page - 1) * per_page), \"of\", str(response[\"count\"]))\n",
    "    \n",
    "    f.close()"
   ]
  },
  {
   "cell_type": "code",
   "execution_count": 26,
   "metadata": {
    "collapsed": false
   },
   "outputs": [
    {
     "name": "stdout",
     "output_type": "stream",
     "text": [
      "https://congress.api.sunlightfoundation.com/legislators?in_office=true\n",
      "Processed: 20 of 539\n",
      "https://congress.api.sunlightfoundation.com/legislators?in_office=true&page=2\n",
      "Processed: 40 of 539\n",
      "https://congress.api.sunlightfoundation.com/legislators?in_office=true&page=3\n",
      "Processed: 60 of 539\n",
      "https://congress.api.sunlightfoundation.com/legislators?in_office=true&page=4\n",
      "Processed: 80 of 539\n",
      "https://congress.api.sunlightfoundation.com/legislators?in_office=true&page=5\n",
      "Processed: 100 of 539\n",
      "https://congress.api.sunlightfoundation.com/legislators?in_office=true&page=6\n",
      "Processed: 120 of 539\n",
      "https://congress.api.sunlightfoundation.com/legislators?in_office=true&page=7\n",
      "Processed: 140 of 539\n",
      "https://congress.api.sunlightfoundation.com/legislators?in_office=true&page=8\n",
      "Processed: 160 of 539\n",
      "https://congress.api.sunlightfoundation.com/legislators?in_office=true&page=9\n",
      "Processed: 180 of 539\n",
      "https://congress.api.sunlightfoundation.com/legislators?in_office=true&page=10\n",
      "Processed: 200 of 539\n",
      "https://congress.api.sunlightfoundation.com/legislators?in_office=true&page=11\n",
      "Processed: 220 of 539\n",
      "https://congress.api.sunlightfoundation.com/legislators?in_office=true&page=12\n",
      "Processed: 240 of 539\n",
      "https://congress.api.sunlightfoundation.com/legislators?in_office=true&page=13\n",
      "Processed: 260 of 539\n",
      "https://congress.api.sunlightfoundation.com/legislators?in_office=true&page=14\n",
      "Processed: 280 of 539\n",
      "https://congress.api.sunlightfoundation.com/legislators?in_office=true&page=15\n",
      "Processed: 300 of 539\n",
      "https://congress.api.sunlightfoundation.com/legislators?in_office=true&page=16\n",
      "Processed: 320 of 539\n",
      "https://congress.api.sunlightfoundation.com/legislators?in_office=true&page=17\n",
      "Processed: 340 of 539\n",
      "https://congress.api.sunlightfoundation.com/legislators?in_office=true&page=18\n",
      "Processed: 360 of 539\n",
      "https://congress.api.sunlightfoundation.com/legislators?in_office=true&page=19\n",
      "Processed: 380 of 539\n",
      "https://congress.api.sunlightfoundation.com/legislators?in_office=true&page=20\n",
      "Processed: 400 of 539\n",
      "https://congress.api.sunlightfoundation.com/legislators?in_office=true&page=21\n",
      "Processed: 420 of 539\n",
      "https://congress.api.sunlightfoundation.com/legislators?in_office=true&page=22\n",
      "Processed: 440 of 539\n",
      "https://congress.api.sunlightfoundation.com/legislators?in_office=true&page=23\n",
      "Processed: 460 of 539\n",
      "https://congress.api.sunlightfoundation.com/legislators?in_office=true&page=24\n",
      "Processed: 480 of 539\n",
      "https://congress.api.sunlightfoundation.com/legislators?in_office=true&page=25\n",
      "Processed: 500 of 539\n",
      "https://congress.api.sunlightfoundation.com/legislators?in_office=true&page=26\n",
      "Processed: 520 of 539\n",
      "https://congress.api.sunlightfoundation.com/legislators?in_office=true&page=27\n",
      "Processed: 540 of 539\n"
     ]
    }
   ],
   "source": [
    "getAllCurrentLegislators(\"active_legislators.csv\")"
   ]
  },
  {
   "cell_type": "code",
   "execution_count": null,
   "metadata": {
    "collapsed": true
   },
   "outputs": [],
   "source": []
  }
 ],
 "metadata": {
  "kernelspec": {
   "display_name": "Python 3",
   "language": "python",
   "name": "python3"
  },
  "language_info": {
   "codemirror_mode": {
    "name": "ipython",
    "version": 3
   },
   "file_extension": ".py",
   "mimetype": "text/x-python",
   "name": "python",
   "nbconvert_exporter": "python",
   "pygments_lexer": "ipython3",
   "version": "3.5.2"
  }
 },
 "nbformat": 4,
 "nbformat_minor": 2
}
